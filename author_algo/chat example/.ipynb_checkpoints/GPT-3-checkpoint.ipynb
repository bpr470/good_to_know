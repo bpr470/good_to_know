{
 "cells": [
  {
   "cell_type": "code",
   "execution_count": 50,
   "metadata": {},
   "outputs": [],
   "source": [
    "import os\n",
    "import openai\n",
    "\n",
    "openai.api_key = \"sk-u3p3gFAO8YK4sCt629Ido8aG35OWSB8Ovvic3bfB\"\n",
    "\n",
    "start_sequence = \"\\nAI:\"\n",
    "restart_sequence = \"\\nHuman: \"\n",
    "\n",
    "def response(a):\n",
    "    response = openai.Completion.create(\n",
    "      engine=\"davinci\",\n",
    "      prompt=\"\\n\\nHuman:\"+a+\"AI:\",\n",
    "      temperature=0.9,\n",
    "      max_tokens=150,\n",
    "      top_p=1,\n",
    "      presence_penalty=0.6,\n",
    "      stop=[\"\\n\", \" Human:\", \" AI:\"]\n",
    "    )\n",
    "    return response['choices'][0]['text']"
   ]
  },
  {
   "cell_type": "code",
   "execution_count": 60,
   "metadata": {},
   "outputs": [
    {
     "data": {
      "text/plain": [
       "' and.mochi ice cream and I like starwick chocolate.'"
      ]
     },
     "execution_count": 60,
     "metadata": {},
     "output_type": "execute_result"
    }
   ],
   "source": [
    "response(\"on I do not like chips at all i like ice creme\")"
   ]
  },
  {
   "cell_type": "code",
   "execution_count": 75,
   "metadata": {},
   "outputs": [
    {
     "name": "stdout",
     "output_type": "stream",
     "text": [
      " Oh Im a robot, I do anything, at the same time.\n"
     ]
    }
   ],
   "source": [
    "! python -c 'import gpt3; print(gpt3.response(\"is that not kind of booring to do just that?\"))'"
   ]
  },
  {
   "cell_type": "code",
   "execution_count": null,
   "metadata": {},
   "outputs": [],
   "source": []
  }
 ],
 "metadata": {
  "kernelspec": {
   "display_name": "Python 3",
   "language": "python",
   "name": "python3"
  },
  "language_info": {
   "codemirror_mode": {
    "name": "ipython",
    "version": 3
   },
   "file_extension": ".py",
   "mimetype": "text/x-python",
   "name": "python",
   "nbconvert_exporter": "python",
   "pygments_lexer": "ipython3",
   "version": "3.7.8"
  }
 },
 "nbformat": 4,
 "nbformat_minor": 4
}
